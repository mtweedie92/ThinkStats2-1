{
 "cells": [
  {
   "cell_type": "markdown",
   "metadata": {},
   "source": [
    "# Chapter 13\n",
    "# Survival Analysis"
   ]
  },
  {
   "cell_type": "markdown",
   "metadata": {},
   "source": [
    "Survival analysis is used to assess how long things last; more generally, we can think of this as looking at intervals in time before an event happens."
   ]
  },
  {
   "cell_type": "markdown",
   "metadata": {},
   "source": [
    "### 13.1 Survival Curves\n",
    "\n",
    "Survival is assessed using a *survival curve*, S(t). This is a function that maps from a duration, t, to the probability of surviving longer than t. If we know the distribution of durations we can calculate the survival curve as the complement of the CDF:\n",
    "\n",
    "$$ S(t) = 1 - CDF(t) $$\n",
    "\n",
    "CDF(t) is the probability of a lifetime $\\leqslant$ t.\n",
    "\n",
    "Let's look at an example: in the NSFG data, we have information on the duration of 11189 pregnancies."
   ]
  },
  {
   "cell_type": "code",
   "execution_count": 1,
   "metadata": {
    "ExecuteTime": {
     "end_time": "2020-04-10T10:58:04.737959Z",
     "start_time": "2020-04-10T10:57:56.239806Z"
    }
   },
   "outputs": [],
   "source": [
    "import nsfg\n",
    "import thinkstats2\n",
    "import thinkplot"
   ]
  },
  {
   "cell_type": "code",
   "execution_count": 2,
   "metadata": {
    "ExecuteTime": {
     "end_time": "2020-04-10T10:58:17.183029Z",
     "start_time": "2020-04-10T10:58:13.951470Z"
    }
   },
   "outputs": [],
   "source": [
    "preg = nsfg.ReadFemPreg()"
   ]
  },
  {
   "cell_type": "code",
   "execution_count": 4,
   "metadata": {
    "ExecuteTime": {
     "end_time": "2020-04-10T11:00:15.084143Z",
     "start_time": "2020-04-10T11:00:15.008139Z"
    }
   },
   "outputs": [],
   "source": [
    "complete = preg.query('outcome in [1, 3, 4]').prglngth #live births, stillbirths and miscarriages only"
   ]
  },
  {
   "cell_type": "code",
   "execution_count": 25,
   "metadata": {
    "ExecuteTime": {
     "end_time": "2020-04-10T11:35:00.190789Z",
     "start_time": "2020-04-10T11:35:00.180788Z"
    }
   },
   "outputs": [],
   "source": [
    "cdf = thinkstats2.Cdf(complete, label='cdf')"
   ]
  },
  {
   "cell_type": "markdown",
   "metadata": {
    "ExecuteTime": {
     "end_time": "2020-04-10T11:04:39.136498Z",
     "start_time": "2020-04-10T11:04:38.835426Z"
    }
   },
   "source": [
    "Now we need to transform the CDF into the survival function (SF). We do this by making a new class, **SurvivalFunction**."
   ]
  },
  {
   "cell_type": "code",
   "execution_count": 19,
   "metadata": {
    "ExecuteTime": {
     "end_time": "2020-04-10T11:21:13.203801Z",
     "start_time": "2020-04-10T11:21:13.191800Z"
    }
   },
   "outputs": [],
   "source": [
    "class SurvivalFunction(object):\n",
    "    def __init__(self, cdf, label=''):\n",
    "        self.cdf = cdf\n",
    "        self.label = label or cdf.label\n",
    "    @property\n",
    "    def ts(self):\n",
    "        return self.cdf.xs\n",
    "    \n",
    "    @property\n",
    "    def ss(self):\n",
    "        return 1-self.cdf.ps\n",
    "    \n",
    "    def __getitem__(self, t):\n",
    "        return self.Prob(t)\n",
    "    \n",
    "    def Prob(self, t):\n",
    "        return 1 - self.cdf.Prob(t)"
   ]
  },
  {
   "cell_type": "markdown",
   "metadata": {},
   "source": [
    "Properties are methods that can be invoked as if they are variables. This class provides two: ts, the sequence of lifetimes and ss, the survival curve.\n",
    "\n",
    "**__getitem__** and **Prob** evaluate the survival curve, so **sf[t]** tells us the number of pregnancies that proceed after t weeks."
   ]
  },
  {
   "cell_type": "code",
   "execution_count": 29,
   "metadata": {
    "ExecuteTime": {
     "end_time": "2020-04-10T11:35:33.996882Z",
     "start_time": "2020-04-10T11:35:33.991879Z"
    }
   },
   "outputs": [],
   "source": [
    "sf = SurvivalFunction(cdf)"
   ]
  },
  {
   "cell_type": "markdown",
   "metadata": {
    "ExecuteTime": {
     "end_time": "2020-04-10T11:20:34.973981Z",
     "start_time": "2020-04-10T11:20:34.712895Z"
    }
   },
   "source": [
    "For plotting purposes, we'll use the ThinkStats2 version of **SurvivalFunction** as it provides **Render** and so lets us use **thinkplot**.  "
   ]
  },
  {
   "cell_type": "code",
   "execution_count": 21,
   "metadata": {
    "ExecuteTime": {
     "end_time": "2020-04-10T11:33:22.907838Z",
     "start_time": "2020-04-10T11:33:22.892389Z"
    }
   },
   "outputs": [],
   "source": [
    "import survival"
   ]
  },
  {
   "cell_type": "code",
   "execution_count": 30,
   "metadata": {
    "ExecuteTime": {
     "end_time": "2020-04-10T11:35:46.463969Z",
     "start_time": "2020-04-10T11:35:46.456968Z"
    }
   },
   "outputs": [],
   "source": [
    "sf = survival.SurvivalFunction(sf.ts, sf.ss)"
   ]
  },
  {
   "cell_type": "code",
   "execution_count": 32,
   "metadata": {
    "ExecuteTime": {
     "end_time": "2020-04-10T11:37:10.426740Z",
     "start_time": "2020-04-10T11:37:10.092738Z"
    }
   },
   "outputs": [
    {
     "data": {
      "image/png": "[encoded data removed]",
      "text/plain": [
       "<Figure size 432x288 with 1 Axes>"
      ]
     },
     "metadata": {
      "needs_background": "light"
     },
     "output_type": "display_data"
    },
    {
     "data": {
      "text/plain": [
       "<Figure size 576x432 with 0 Axes>"
      ]
     },
     "metadata": {},
     "output_type": "display_data"
    }
   ],
   "source": [
    "thinkplot.PrePlot(2)\n",
    "thinkplot.Cdf(cdf)\n",
    "thinkplot.Plot(sf)\n",
    "thinkplot.Show()"
   ]
  },
  {
   "cell_type": "markdown",
   "metadata": {},
   "source": [
    "### 13.2 Hazard Function"
   ]
  },
  {
   "cell_type": "markdown",
   "metadata": {},
   "source": [
    "Next, we look at the *hazard function*. This maps from a time to the fraction of events that happen at this time.\n",
    "\n",
    "$$ \\lambda(t) = \\frac{S(t) - S(t+1)}{S(t)} $$\n",
    "\n",
    "The numerator is the fraction of lifetimes that end at t, a.k.a. PMF(t).\n",
    "\n",
    "SurvivalFunction provides **MakeHazardFunction** to calculate this. This version is only valid on data with equally spaced t values."
   ]
  },
  {
   "cell_type": "code",
   "execution_count": 38,
   "metadata": {
    "ExecuteTime": {
     "end_time": "2020-04-10T11:48:59.449559Z",
     "start_time": "2020-04-10T11:48:59.441554Z"
    }
   },
   "outputs": [],
   "source": [
    "hf = sf.MakeHazardFunction(label = 'hf')"
   ]
  },
  {
   "cell_type": "markdown",
   "metadata": {
    "ExecuteTime": {
     "end_time": "2020-04-10T11:46:45.617655Z",
     "start_time": "2020-04-10T11:46:45.609086Z"
    }
   },
   "source": [
    "**HazardFunction** is a wrapper for a pandas Series. It can take any type that can initialise a Series.\n",
    "\n",
    "Like **SurvivalFunction** it also provides **__getitem__**."
   ]
  },
  {
   "cell_type": "code",
   "execution_count": 42,
   "metadata": {
    "ExecuteTime": {
     "end_time": "2020-04-10T11:55:48.881287Z",
     "start_time": "2020-04-10T11:55:48.872729Z"
    }
   },
   "outputs": [
    {
     "data": {
      "text/plain": [
       "0.49689440993788797"
      ]
     },
     "execution_count": 42,
     "metadata": {},
     "output_type": "execute_result"
    }
   ],
   "source": [
    "hf[40] #nb this is the value given for 39 weeks in the book, reason for the difference is unclear."
   ]
  },
  {
   "cell_type": "markdown",
   "metadata": {},
   "source": [
    "This means that of all pregnancies that proceed to week 40, around 50% end that week."
   ]
  },
  {
   "cell_type": "code",
   "execution_count": 44,
   "metadata": {
    "ExecuteTime": {
     "end_time": "2020-04-10T11:56:39.956987Z",
     "start_time": "2020-04-10T11:56:39.642726Z"
    }
   },
   "outputs": [
    {
     "data": {
      "image/png": "[encoded data removed]",
      "text/plain": [
       "<Figure size 432x288 with 1 Axes>"
      ]
     },
     "metadata": {
      "needs_background": "light"
     },
     "output_type": "display_data"
    },
    {
     "data": {
      "text/plain": [
       "<Figure size 576x432 with 0 Axes>"
      ]
     },
     "metadata": {},
     "output_type": "display_data"
    }
   ],
   "source": [
    "thinkplot.Plot(hf)\n",
    "thinkplot.Show()"
   ]
  },
  {
   "cell_type": "markdown",
   "metadata": {},
   "source": [
    "After week 42 the hazard function becomes erratic due to the small number of cases. Before that we see the expected behaviour: a peak at around 39 weeks, and a slight decrease from the first to second trimesters."
   ]
  },
  {
   "cell_type": "code",
   "execution_count": null,
   "metadata": {},
   "outputs": [],
   "source": []
  }
 ],
 "metadata": {
  "kernelspec": {
   "display_name": "Python 3",
   "language": "python",
   "name": "python3"
  },
  "language_info": {
   "codemirror_mode": {
    "name": "ipython",
    "version": 3
   },
   "file_extension": ".py",
   "mimetype": "text/x-python",
   "name": "python",
   "nbconvert_exporter": "python",
   "pygments_lexer": "ipython3",
   "version": "3.7.6"
  }
 },
 "nbformat": 4,
 "nbformat_minor": 4
}
